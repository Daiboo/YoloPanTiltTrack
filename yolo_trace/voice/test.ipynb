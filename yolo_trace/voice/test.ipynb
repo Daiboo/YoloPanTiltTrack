{
 "cells": [
  {
   "cell_type": "code",
   "execution_count": 1,
   "metadata": {},
   "outputs": [],
   "source": [
    "import pyaudio\n",
    "import wave\n",
    "\n",
    "# 录音参数\n",
    "CHUNK = 1024  # 每个缓冲区的帧数\n",
    "FORMAT = pyaudio.paInt16  # 数据格式\n",
    "CHANNELS = 1  # 单声道\n",
    "RATE = 16000  # 采样率\n",
    "RECORD_SECONDS = 5  # 录音时间\n",
    "WAVE_OUTPUT_FILENAME = \"output.wav\"  # 输出文件名\n",
    "\n",
    "# 初始化pyaudio\n",
    "p = pyaudio.PyAudio()\n"
   ]
  },
  {
   "cell_type": "code",
   "execution_count": 2,
   "metadata": {},
   "outputs": [
    {
     "name": "stdout",
     "output_type": "stream",
     "text": [
      "开始录音，请说话...\n",
      "录音结束。\n"
     ]
    }
   ],
   "source": [
    "# 打开录音流\n",
    "stream = p.open(format=FORMAT,\n",
    "                channels=CHANNELS,\n",
    "                rate=RATE,\n",
    "                input=True,\n",
    "                frames_per_buffer=CHUNK)\n",
    "\n",
    "print(\"开始录音，请说话...\")\n",
    "\n",
    "frames = []\n",
    "\n",
    "# 读取数据\n",
    "for i in range(0, int(RATE / CHUNK * RECORD_SECONDS)):\n",
    "    data = stream.read(CHUNK)\n",
    "    frames.append(data)\n",
    "\n",
    "print(\"录音结束。\")\n",
    "\n",
    "# 停止录音\n",
    "stream.stop_stream()\n",
    "stream.close()\n",
    "p.terminate()\n",
    "\n",
    "# 保存录音数据到文件\n",
    "wf = wave.open(WAVE_OUTPUT_FILENAME, 'wb')\n",
    "wf.setnchannels(CHANNELS)\n",
    "wf.setsampwidth(p.get_sample_size(FORMAT))\n",
    "wf.setframerate(RATE)\n",
    "wf.writeframes(b''.join(frames))\n",
    "wf.close()"
   ]
  },
  {
   "cell_type": "code",
   "execution_count": 9,
   "metadata": {},
   "outputs": [],
   "source": []
  },
  {
   "cell_type": "code",
   "execution_count": 13,
   "metadata": {},
   "outputs": [
    {
     "data": {
      "text/plain": [
       "{'corpus_no': '7394443722163165945',\n",
       " 'err_msg': 'success.',\n",
       " 'err_no': 0,\n",
       " 'result': ['开启摄像头。'],\n",
       " 'sn': '995067910341721653091'}"
      ]
     },
     "execution_count": 13,
     "metadata": {},
     "output_type": "execute_result"
    }
   ],
   "source": [
    "from aip import AipSpeech\n",
    "\n",
    "\"\"\" 你的 APPID AK SK \"\"\"\n",
    "APP_ID = \"97538679\"\n",
    "API_KEY = 'PvwLdpbQAwup0Te2xksrVx7Y'\n",
    "SECRET_KEY = 'nDdSCo7oyQ3jf4KWRFgHDGqvD7VrwdFU'\n",
    "\n",
    "client = AipSpeech(APP_ID, API_KEY, SECRET_KEY)\n",
    "\n",
    "\n",
    "# 读取文件\n",
    "def get_file_content(filePath):\n",
    "    with open(filePath, 'rb') as fp:\n",
    "        return fp.read()\n",
    "\n",
    "# 识别本地文件\n",
    "client.asr(get_file_content('./output.wav'), 'wav', 16000, {\n",
    "    'dev_pid': 1537,\n",
    "})"
   ]
  }
 ],
 "metadata": {
  "kernelspec": {
   "display_name": "Python 3",
   "language": "python",
   "name": "python3"
  },
  "language_info": {
   "codemirror_mode": {
    "name": "ipython",
    "version": 3
   },
   "file_extension": ".py",
   "mimetype": "text/x-python",
   "name": "python",
   "nbconvert_exporter": "python",
   "pygments_lexer": "ipython3",
   "version": "3.6.9"
  }
 },
 "nbformat": 4,
 "nbformat_minor": 2
}
